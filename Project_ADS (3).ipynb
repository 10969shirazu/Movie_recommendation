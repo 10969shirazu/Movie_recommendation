{
  "cells": [
    {
      "cell_type": "code",
      "execution_count": 1,
      "metadata": {
        "id": "YFp0uQuA7WLz",
        "colab": {
          "base_uri": "https://localhost:8080/"
        },
        "outputId": "95bde33c-a94b-47ec-f2fc-3d84f56646ca"
      },
      "outputs": [
        {
          "output_type": "stream",
          "name": "stdout",
          "text": [
            "Mounted at /content/drive\n",
            "   663821     s948047\n",
            "0  663821   s34945401\n",
            "1  663821   s84097505\n",
            "2  663821   s79213851\n",
            "3  663821   s87544655\n",
            "4  663821  s125969381\n"
          ]
        }
      ],
      "source": [
        "import pandas as pd\n",
        "from google.colab import drive\n",
        "\n",
        "drive.mount('/content/drive', force_remount=True)\n",
        "\n",
        "file_path = '/content/drive/MyDrive/spotusers.csv'\n",
        "spotusers = pd.read_csv(file_path)\n",
        "\n",
        "print(spotusers.head())"
      ]
    },
    {
      "cell_type": "code",
      "execution_count": 1,
      "metadata": {
        "id": "YN1X8ZaGkFZs"
      },
      "outputs": [],
      "source": []
    },
    {
      "cell_type": "code",
      "execution_count": 2,
      "metadata": {
        "id": "y7Fwsjqt7x6Z",
        "colab": {
          "base_uri": "https://localhost:8080/"
        },
        "outputId": "4247f274-f357-464c-ef3f-5587359f7e91"
      },
      "outputs": [
        {
          "output_type": "stream",
          "name": "stdout",
          "text": [
            "Collecting annoy\n",
            "  Downloading annoy-1.17.3.tar.gz (647 kB)\n",
            "\u001b[?25l     \u001b[90m━━━━━━━━━━━━━━━━━━━━━━━━━━━━━━━━━━━━━━━━\u001b[0m \u001b[32m0.0/647.5 kB\u001b[0m \u001b[31m?\u001b[0m eta \u001b[36m-:--:--\u001b[0m\r\u001b[2K     \u001b[91m━━━━━━━━━━━━━━━━━━━━━━━━━━━━━━━━━━━━━━━\u001b[0m\u001b[91m╸\u001b[0m \u001b[32m645.1/647.5 kB\u001b[0m \u001b[31m48.0 MB/s\u001b[0m eta \u001b[36m0:00:01\u001b[0m\r\u001b[2K     \u001b[90m━━━━━━━━━━━━━━━━━━━━━━━━━━━━━━━━━━━━━━━━\u001b[0m \u001b[32m647.5/647.5 kB\u001b[0m \u001b[31m13.8 MB/s\u001b[0m eta \u001b[36m0:00:00\u001b[0m\n",
            "\u001b[?25h  Preparing metadata (setup.py) ... \u001b[?25l\u001b[?25hdone\n",
            "Building wheels for collected packages: annoy\n",
            "  Building wheel for annoy (setup.py) ... \u001b[?25l\u001b[?25hdone\n",
            "  Created wheel for annoy: filename=annoy-1.17.3-cp311-cp311-linux_x86_64.whl size=553319 sha256=dfbc9662b0b96d206fa222b96fd45522bb02752738e54de215919283df37d3e3\n",
            "  Stored in directory: /root/.cache/pip/wheels/33/e5/58/0a3e34b92bedf09b4c57e37a63ff395ade6f6c1099ba59877c\n",
            "Successfully built annoy\n",
            "Installing collected packages: annoy\n",
            "Successfully installed annoy-1.17.3\n"
          ]
        }
      ],
      "source": [
        "pip install annoy"
      ]
    },
    {
      "cell_type": "code",
      "execution_count": 3,
      "metadata": {
        "id": "4-oq8RMD3Q_f"
      },
      "outputs": [],
      "source": [
        "from annoy import AnnoyIndex"
      ]
    },
    {
      "cell_type": "code",
      "execution_count": 3,
      "metadata": {
        "id": "Fafq7VtRSzP5"
      },
      "outputs": [],
      "source": []
    },
    {
      "cell_type": "code",
      "execution_count": 3,
      "metadata": {
        "id": "YifhLBX19c3V"
      },
      "outputs": [],
      "source": []
    },
    {
      "cell_type": "code",
      "execution_count": 4,
      "metadata": {
        "id": "RxnrO9Ju7pA7",
        "colab": {
          "base_uri": "https://localhost:8080/"
        },
        "outputId": "728b4a83-f4c2-446f-d08f-e89a3e89975d"
      },
      "outputs": [
        {
          "output_type": "stream",
          "name": "stdout",
          "text": [
            "Number of unique users: 9192\n",
            "Number of unique movies: 335218\n",
            "Average number of movies per user: 100.0001087902524\n"
          ]
        }
      ],
      "source": [
        "\n",
        "spotusers.rename(columns={\n",
        "    '663821': 'user_id',\n",
        "    's948047': 'movie_id'\n",
        "}, inplace=True)\n",
        "\n",
        "\n",
        "spotusers_cleaned = spotusers.drop_duplicates()\n",
        "\n",
        "unique_users = spotusers_cleaned['user_id'].nunique()\n",
        "unique_movies = spotusers_cleaned['movie_id'].nunique()\n",
        "avg_movies_per_user = spotusers_cleaned.groupby('user_id')['movie_id'].count().mean()\n",
        "\n",
        "\n",
        "print(\"Number of unique users:\", unique_users)\n",
        "print(\"Number of unique movies:\", unique_movies)\n",
        "print(\"Average number of movies per user:\", avg_movies_per_user)"
      ]
    },
    {
      "cell_type": "markdown",
      "metadata": {
        "id": "BGl8W55p8xFw"
      },
      "source": [
        "# Implement a Custom Recommendation Algorithm"
      ]
    },
    {
      "cell_type": "code",
      "execution_count": 5,
      "metadata": {
        "id": "2qg9qg7y8P39",
        "colab": {
          "base_uri": "https://localhost:8080/"
        },
        "outputId": "31bb9bf7-b086-4b7c-fe0d-1c32e3a2af8d"
      },
      "outputs": [
        {
          "output_type": "stream",
          "name": "stdout",
          "text": [
            "Top 10 recommendations for user 78443:\n",
            "1. s119437608\n",
            "2. s119302924\n",
            "3. s124996692\n",
            "4. s102035745\n",
            "5. s140883491\n",
            "6. s129011934\n",
            "7. s133940962\n",
            "8. s112662368\n",
            "9. s132193346\n",
            "10. s98169664\n"
          ]
        }
      ],
      "source": [
        "import numpy as np\n",
        "from scipy.sparse import coo_matrix, csr_matrix\n",
        "\n",
        "\n",
        "def create_sparse_matrix(data):\n",
        "    row = data['user_id'].astype('category').cat.codes\n",
        "    col = data['movie_id'].astype('category').cat.codes\n",
        "    values = np.ones(len(data))\n",
        "    sparse_matrix = coo_matrix((values, (row, col))).tocsr()\n",
        "\n",
        "\n",
        "    user_id_mapping = dict(enumerate(data['user_id'].astype('category').cat.categories))\n",
        "    movie_id_mapping = dict(enumerate(data['movie_id'].astype('category').cat.categories))\n",
        "\n",
        "    return sparse_matrix, user_id_mapping, movie_id_mapping\n",
        "\n",
        "\n",
        "def calculate_cosine_similarity_sparse(matrix):\n",
        "    \"\"\"Compute cosine similarity for a sparse matrix.\"\"\"\n",
        "    row_norms = np.sqrt(matrix.multiply(matrix).sum(axis=1))\n",
        "    row_norms[row_norms == 0] = 1  # Avoid division by zero\n",
        "    normalized_matrix = matrix.multiply(1 / row_norms)\n",
        "    similarity_matrix = normalized_matrix @ normalized_matrix.T\n",
        "    return similarity_matrix\n",
        "\n",
        "\n",
        "def get_top_k_similar_users(user_id, user_id_mapping, user_similarity, k=5):\n",
        "    user_index = list(user_id_mapping.keys())[list(user_id_mapping.values()).index(user_id)]\n",
        "    similarities = user_similarity[user_index].toarray().flatten()\n",
        "    similar_user_indices = np.argsort(-similarities)[1:k+1]\n",
        "    return [user_id_mapping[i] for i in similar_user_indices]\n",
        "\n",
        "def recommend_movies(user_id, user_item_matrix, user_id_mapping, movie_id_mapping, user_similarity, k=5, limit=10):\n",
        "    similar_users = get_top_k_similar_users(user_id, user_id_mapping, user_similarity, k)\n",
        "    target_user_index = list(user_id_mapping.keys())[list(user_id_mapping.values()).index(user_id)]\n",
        "    watched_movies = set(user_item_matrix[target_user_index].indices)\n",
        "    movie_counts = {}\n",
        "    for similar_user in similar_users:\n",
        "        similar_user_index = list(user_id_mapping.keys())[list(user_id_mapping.values()).index(similar_user)]\n",
        "        similar_watched = set(user_item_matrix[similar_user_index].indices)\n",
        "        for movie_idx in similar_watched - watched_movies:\n",
        "            movie_counts[movie_idx] = movie_counts.get(movie_idx, 0) + 1\n",
        "\n",
        "    sorted_recommendations = sorted(movie_counts, key=movie_counts.get, reverse=True)\n",
        "    return [movie_id_mapping[movie_idx] for movie_idx in sorted_recommendations[:limit]]\n",
        "\n",
        "\n",
        "\n",
        "user_item_matrix_sparse, user_id_mapping, movie_id_mapping = create_sparse_matrix(spotusers_cleaned)\n",
        "\n",
        "\n",
        "user_similarity_sparse = calculate_cosine_similarity_sparse(user_item_matrix_sparse)\n",
        "\n",
        "\n",
        "example_user_id = list(user_id_mapping.values())[0]\n",
        "recommendations = recommend_movies(\n",
        "    user_id=example_user_id,\n",
        "    user_item_matrix=user_item_matrix_sparse,\n",
        "    user_id_mapping=user_id_mapping,\n",
        "    movie_id_mapping=movie_id_mapping,\n",
        "    user_similarity=user_similarity_sparse,\n",
        "    k=5,\n",
        "    limit=10\n",
        ")\n",
        "\n",
        "print(f\"Top {len(recommendations)} recommendations for user {example_user_id}:\")\n",
        "for idx, movie_id in enumerate(recommendations, 1):\n",
        "    print(f\"{idx}. {movie_id}\")\n"
      ]
    },
    {
      "cell_type": "markdown",
      "metadata": {
        "id": "RLaHwjmnC7T_"
      },
      "source": [
        "# Knn-algorithm from library"
      ]
    },
    {
      "cell_type": "code",
      "execution_count": 6,
      "metadata": {
        "id": "RQnLK9_482P1",
        "colab": {
          "base_uri": "https://localhost:8080/"
        },
        "outputId": "b52cb9e8-a44e-4147-f89e-96a479c966a4"
      },
      "outputs": [
        {
          "output_type": "stream",
          "name": "stdout",
          "text": [
            "Top 10 recommendations for user 78443:\n",
            "1. s124996690\n",
            "2. s119437608\n",
            "3. s115868048\n",
            "4. s124996692\n",
            "5. s140883491\n",
            "6. s129011934\n",
            "7. s133940962\n",
            "8. s98169664\n",
            "9. s132193346\n",
            "10. s142706538\n"
          ]
        }
      ],
      "source": [
        "from sklearn.neighbors import NearestNeighbors\n",
        "\n",
        "\n",
        "user_item_matrix_sparse, user_id_mapping, movie_id_mapping = create_sparse_matrix(spotusers_cleaned)\n",
        "\n",
        "\n",
        "model = NearestNeighbors(metric='cosine', algorithm='brute')\n",
        "model.fit(user_item_matrix_sparse)\n",
        "\n",
        "\n",
        "def get_top_k_similar_users_nn(user_id, model, user_id_mapping, k=5):\n",
        "    user_index = list(user_id_mapping.keys())[list(user_id_mapping.values()).index(user_id)]  # Map user_id to row index\n",
        "    distances, indices = model.kneighbors(user_item_matrix_sparse[user_index], n_neighbors=k+1)  # +1 to exclude self\n",
        "    similar_user_indices = indices.flatten()[1:]  # Exclude the user itself\n",
        "    return [user_id_mapping[i] for i in similar_user_indices]\n",
        "\n",
        "\n",
        "def recommend_movies_nn(user_id, model, user_item_matrix, user_id_mapping, movie_id_mapping, k=5, limit=10):\n",
        "    similar_users = get_top_k_similar_users_nn(user_id, model, user_id_mapping, k)\n",
        "    target_user_index = list(user_id_mapping.keys())[list(user_id_mapping.values()).index(user_id)]\n",
        "    watched_movies = set(user_item_matrix[target_user_index].indices)\n",
        "    movie_counts = {}\n",
        "    for similar_user in similar_users:\n",
        "        similar_user_index = list(user_id_mapping.keys())[list(user_id_mapping.values()).index(similar_user)]\n",
        "        similar_watched = set(user_item_matrix[similar_user_index].indices)\n",
        "        for movie_idx in similar_watched - watched_movies:\n",
        "            movie_counts[movie_idx] = movie_counts.get(movie_idx, 0) + 1\n",
        "\n",
        "    sorted_recommendations = sorted(movie_counts, key=movie_counts.get, reverse=True)\n",
        "    return [movie_id_mapping[movie_idx] for movie_idx in sorted_recommendations[:limit]]\n",
        "\n",
        "\n",
        "example_user_id = list(user_id_mapping.values())[0]\n",
        "recommendations_nn = recommend_movies_nn(\n",
        "    user_id=example_user_id,\n",
        "    model=model,\n",
        "    user_item_matrix=user_item_matrix_sparse,\n",
        "    user_id_mapping=user_id_mapping,\n",
        "    movie_id_mapping=movie_id_mapping,\n",
        "    k=5,\n",
        "    limit=10\n",
        ")\n",
        "\n",
        "print(f\"Top {len(recommendations_nn)} recommendations for user {example_user_id}:\")\n",
        "for idx, movie_id in enumerate(recommendations_nn, 1):\n",
        "    print(f\"{idx}. {movie_id}\")\n",
        "\n"
      ]
    },
    {
      "cell_type": "markdown",
      "metadata": {
        "id": "b0Ary6T0DeJy"
      },
      "source": [
        "# Time-Comparison"
      ]
    },
    {
      "cell_type": "code",
      "execution_count": 7,
      "metadata": {
        "id": "iVZPr100DAFU",
        "colab": {
          "base_uri": "https://localhost:8080/"
        },
        "outputId": "7d23bae1-a0a4-45fe-b0d3-827583105de5"
      },
      "outputs": [
        {
          "output_type": "stream",
          "name": "stdout",
          "text": [
            "Custom Algorithm:\n",
            "Execution Time: 0.0075 seconds\n",
            "Precision@10: 0.30\n",
            "Recall@10: 1.00\n",
            "\n",
            "NearestNeighbors Algorithm:\n",
            "Execution Time: 0.1893 seconds\n",
            "Precision@10: 0.30\n",
            "Recall@10: 1.00\n"
          ]
        }
      ],
      "source": [
        "import time\n",
        "from sklearn.metrics import precision_score, recall_score\n",
        "\n",
        "\n",
        "ground_truth_movies = {'s124996692', 's129011934', 's98169664'}\n",
        "\n",
        "\n",
        "def calculate_metrics(recommended_movies, ground_truth):\n",
        "    recommended_set = set(recommended_movies)\n",
        "    precision = len(recommended_set & ground_truth) / len(recommended_set) if recommended_set else 0\n",
        "    recall = len(recommended_set & ground_truth) / len(ground_truth) if ground_truth else 0\n",
        "    return precision, recall\n",
        "\n",
        "\n",
        "start_time = time.time()\n",
        "recommendations_custom = recommend_movies(\n",
        "    user_id=example_user_id,\n",
        "    user_item_matrix=user_item_matrix_sparse,\n",
        "    user_id_mapping=user_id_mapping,\n",
        "    movie_id_mapping=movie_id_mapping,\n",
        "    user_similarity=user_similarity_sparse,\n",
        "    k=5,\n",
        "    limit=10\n",
        ")\n",
        "custom_time = time.time() - start_time\n",
        "custom_precision, custom_recall = calculate_metrics(recommendations_custom, ground_truth_movies)\n",
        "\n",
        "\n",
        "start_time = time.time()\n",
        "recommendations_nn = recommend_movies_nn(\n",
        "    user_id=example_user_id,\n",
        "    model=model,\n",
        "    user_item_matrix=user_item_matrix_sparse,\n",
        "    user_id_mapping=user_id_mapping,\n",
        "    movie_id_mapping=movie_id_mapping,\n",
        "    k=5,\n",
        "    limit=10\n",
        ")\n",
        "nn_time = time.time() - start_time\n",
        "nn_precision, nn_recall = calculate_metrics(recommendations_nn, ground_truth_movies)\n",
        "\n",
        "print(\"Custom Algorithm:\")\n",
        "print(f\"Execution Time: {custom_time:.4f} seconds\")\n",
        "print(f\"Precision@10: {custom_precision:.2f}\")\n",
        "print(f\"Recall@10: {custom_recall:.2f}\\n\")\n",
        "\n",
        "print(\"NearestNeighbors Algorithm:\")\n",
        "print(f\"Execution Time: {nn_time:.4f} seconds\")\n",
        "print(f\"Precision@10: {nn_precision:.2f}\")\n",
        "print(f\"Recall@10: {nn_recall:.2f}\")"
      ]
    },
    {
      "cell_type": "markdown",
      "metadata": {
        "id": "YU-cdU2DD0Tv"
      },
      "source": [
        "# Interface creation"
      ]
    },
    {
      "cell_type": "code",
      "execution_count": null,
      "metadata": {
        "id": "VopunaIKDQKK",
        "colab": {
          "base_uri": "https://localhost:8080/"
        },
        "outputId": "45fa821d-f540-498d-e582-e6706101a585"
      },
      "outputs": [
        {
          "output_type": "stream",
          "name": "stdout",
          "text": [
            "Welcome to the Recommendation System!\n"
          ]
        }
      ],
      "source": [
        "# Terminal Interface\n",
        "def terminal_interface():\n",
        "    print(\"Welcome to the Recommendation System!\")\n",
        "    while True:\n",
        "        user_id = input(\"Enter your user ID (or type 'exit' to quit): \")\n",
        "\n",
        "        if user_id.lower() == 'exit':\n",
        "            print(\"Goodbye!\")\n",
        "            break\n",
        "\n",
        "        try:\n",
        "            user_id = int(user_id)\n",
        "            if user_id not in user_id_mapping.values():\n",
        "                raise ValueError(\"User ID not found in the dataset.\")\n",
        "\n",
        "\n",
        "            recommendations = recommend_movies(\n",
        "                user_id=user_id,\n",
        "                user_item_matrix=user_item_matrix_sparse,\n",
        "                user_id_mapping=user_id_mapping,\n",
        "                movie_id_mapping=movie_id_mapping,\n",
        "                user_similarity=user_similarity_sparse,\n",
        "                k=5,\n",
        "                limit=10\n",
        "            )\n",
        "\n",
        "            print(f\"\\nTop {len(recommendations)} recommendations for user {user_id}:\")\n",
        "            for idx, movie_id in enumerate(recommendations, 1):\n",
        "                print(f\"{idx}. {movie_id}\")\n",
        "        except ValueError as e:\n",
        "            print(f\"Error: {e}\")\n",
        "        except Exception as e:\n",
        "            print(f\"An unexpected error occurred: {e}\")\n",
        "\n",
        "user_item_matrix_sparse, user_id_mapping, movie_id_mapping = create_sparse_matrix(spotusers_cleaned)\n",
        "user_similarity_sparse = calculate_cosine_similarity_sparse(user_item_matrix_sparse)\n",
        "\n",
        "# Run the terminal interface\n",
        "terminal_interface()"
      ]
    },
    {
      "cell_type": "markdown",
      "metadata": {
        "id": "4IIUO0fP8zxu"
      },
      "source": [
        "# **Annoy Algorithm**"
      ]
    },
    {
      "cell_type": "code",
      "execution_count": null,
      "metadata": {
        "id": "6GCsmx_Z8y7_"
      },
      "outputs": [],
      "source": []
    },
    {
      "cell_type": "code",
      "execution_count": null,
      "metadata": {
        "id": "aKhLnEHXD8UN"
      },
      "outputs": [],
      "source": []
    },
    {
      "cell_type": "code",
      "execution_count": null,
      "metadata": {
        "id": "GZGse7_JlG5j"
      },
      "outputs": [],
      "source": [
        "import numpy as np\n",
        "from annoy import AnnoyIndex\n",
        "\n",
        "user_item_matrix_sparse, user_id_mapping, movie_id_mapping = create_sparse_matrix(spotusers_cleaned)\n",
        "\n",
        "def build_annoy_index(user_item_matrix, n_trees=2):\n",
        "    \"\"\"\n",
        "    Construire un index Annoy à partir de la matrice utilisateur-item.\n",
        "    :param user_item_matrix: Matrice utilisateur-item au format CSR.\n",
        "    :param n_trees: Nombre d'arbres à construire dans Annoy.\n",
        "    :return: AnnoyIndex, mapping utilisateur.\n",
        "    \"\"\"\n",
        "    num_users, num_items = user_item_matrix.shape\n",
        "    annoy_index = AnnoyIndex(num_items, 'angular')  # Distance angulaire pour les vecteurs\n",
        "\n",
        "    for user_index in range(num_users):\n",
        "        vector = user_item_matrix[user_index].toarray().flatten()\n",
        "        annoy_index.add_item(user_index, vector)\n",
        "\n",
        "    annoy_index.build(n_trees)\n",
        "    return annoy_index\n",
        "\n",
        "\n",
        "def find_similar_users_annoy(user_id, user_id_mapping, annoy_index, k=5):\n",
        "    \"\"\"\n",
        "    Trouver les utilisateurs les plus similaires avec Annoy.\n",
        "    :param user_id: Identifiant de l'utilisateur cible.\n",
        "    :param user_id_mapping: Mapping des IDs d'utilisateurs.\n",
        "    :param annoy_index: Index Annoy.\n",
        "    :param k: Nombre de voisins à retourner.\n",
        "    :return: Liste des IDs d'utilisateurs similaires.\n",
        "    \"\"\"\n",
        "    user_index = list(user_id_mapping.keys())[list(user_id_mapping.values()).index(user_id)]\n",
        "    similar_user_indices = annoy_index.get_nns_by_item(user_index, k+1)[1:]  # Exclure l'utilisateur lui-même\n",
        "    return [user_id_mapping[i] for i in similar_user_indices]\n",
        "\n",
        "\n",
        "def recommend_movies_annoy(user_id, user_item_matrix, user_id_mapping, movie_id_mapping, annoy_index, k=5, limit=10):\n",
        "    \"\"\"\n",
        "    Recommander des films pour un utilisateur basé sur Annoy.\n",
        "    :param user_id: ID de l'utilisateur cible.\n",
        "    :param user_item_matrix: Matrice utilisateur-item.\n",
        "    :param user_id_mapping: Mapping des IDs d'utilisateurs.\n",
        "    :param movie_id_mapping: Mapping des IDs de films.\n",
        "    :param annoy_index: Index Annoy.\n",
        "    :param k: Nombre d'utilisateurs similaires.\n",
        "    :param limit: Nombre maximum de films à recommander.\n",
        "    :return: Liste des IDs de films recommandés.\n",
        "    \"\"\"\n",
        "    similar_users = find_similar_users_annoy(user_id, user_id_mapping, annoy_index, k)\n",
        "    target_user_index = list(user_id_mapping.keys())[list(user_id_mapping.values()).index(user_id)]\n",
        "    watched_movies = set(user_item_matrix[target_user_index].indices)\n",
        "    movie_counts = {}\n",
        "    for similar_user in similar_users:\n",
        "        similar_user_index = list(user_id_mapping.keys())[list(user_id_mapping.values()).index(similar_user)]\n",
        "        similar_watched = set(user_item_matrix[similar_user_index].indices)\n",
        "        for movie_idx in similar_watched - watched_movies:\n",
        "            movie_counts[movie_idx] = movie_counts.get(movie_idx, 0) + 1\n",
        "\n",
        "    sorted_recommendations = sorted(movie_counts, key=movie_counts.get, reverse=True)\n",
        "    return [movie_id_mapping[movie_idx] for movie_idx in sorted_recommendations[:limit]]\n",
        "\n",
        "\n",
        "annoy_index = build_annoy_index(user_item_matrix_sparse)\n",
        "\n",
        "\n",
        "example_user_id = list(user_id_mapping.values())[0]\n",
        "annoy_recommendations = recommend_movies_annoy(\n",
        "    user_id=example_user_id,\n",
        "    user_item_matrix=user_item_matrix_sparse,\n",
        "    user_id_mapping=user_id_mapping,\n",
        "    movie_id_mapping=movie_id_mapping,\n",
        "    annoy_index=annoy_index,\n",
        "    k=5,\n",
        "    limit=10\n",
        ")\n",
        "\n",
        "print(f\"Top {len(annoy_recommendations)} recommandations basées sur Annoy pour l'utilisateur {example_user_id}:\")\n",
        "for idx, movie_id in enumerate(annoy_recommendations, 1):\n",
        "    print(f\"{idx}. {movie_id}\")\n",
        "\n"
      ]
    },
    {
      "cell_type": "code",
      "source": [
        "import numpy as np\n",
        "from scipy.sparse import csr_matrix\n",
        "\n",
        "\n",
        "data = [\n",
        "    (0, 0),\n",
        "    (0, 1),\n",
        "    (1, 0),\n",
        "    (1, 2),\n",
        "    (2, 1),\n",
        "    (2, 2),\n",
        "]\n",
        "\n",
        "\n",
        "num_users = 3\n",
        "num_items = 3\n",
        "\n",
        "\n",
        "rows, cols = zip(*data)\n",
        "values = np.ones(len(data))\n",
        "\n",
        "\n",
        "user_item_matrix_sparse = csr_matrix((values, (rows, cols)), shape=(num_users, num_items))\n",
        "\n",
        "\n",
        "user_id_mapping = {i: f\"user_{i}\" for i in range(num_users)}\n",
        "movie_id_mapping = {i: f\"movie_{i}\" for i in range(num_items)}\n",
        "\n",
        "\n",
        "annoy_index = build_annoy_index(user_item_matrix_sparse)\n",
        "\n",
        "example_user_id = list(user_id_mapping.values())[0]\n",
        "annoy_recommendations = recommend_movies_annoy(\n",
        "    user_id=example_user_id,\n",
        "    user_item_matrix=user_item_matrix_sparse,\n",
        "    user_id_mapping=user_id_mapping,\n",
        "    movie_id_mapping=movie_id_mapping,\n",
        "    annoy_index=annoy_index,\n",
        "    k=2,\n",
        "    limit=2\n",
        ")\n",
        "\n",
        "print(f\"Top {len(annoy_recommendations)} recommandations basées sur Annoy pour l'utilisateur {example_user_id}:\")\n",
        "for idx, movie_id in enumerate(annoy_recommendations, 1):\n",
        "    print(f\"{idx}. {movie_id}\")\n"
      ],
      "metadata": {
        "id": "RH00ZBIWTgEh"
      },
      "execution_count": null,
      "outputs": []
    },
    {
      "cell_type": "code",
      "source": [],
      "metadata": {
        "id": "Ry9fSQOAaNmE"
      },
      "execution_count": null,
      "outputs": []
    }
  ],
  "metadata": {
    "colab": {
      "provenance": []
    },
    "kernelspec": {
      "display_name": "Python 3",
      "name": "python3"
    },
    "language_info": {
      "name": "python"
    }
  },
  "nbformat": 4,
  "nbformat_minor": 0
}